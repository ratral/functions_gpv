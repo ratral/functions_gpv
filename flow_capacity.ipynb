{
 "cells": [
  {
   "cell_type": "code",
   "execution_count": 1,
   "metadata": {},
   "outputs": [],
   "source": [
    "#@title Imports\n",
    "import numpy as np\n",
    "import sympy as sp\n",
    "import sympy.physics.units as u"
   ]
  },
  {
   "cell_type": "code",
   "execution_count": 2,
   "metadata": {},
   "outputs": [],
   "source": [
    "#@title Definition of the Symbols\n",
    "Dp   = sp.Symbol('\\Delta{P_v}', real=True, positive=True) # Pressure difference in bars\n",
    "Dh   = sp.Symbol('\\Delta{H_v}', real=True, positive=True) # in meters\n",
    "g    = sp.Symbol('g',           real=True, positive=True) # Gravity in m/s^2\n",
    "ro   = sp.Symbol('rho',         real=True, positive=True) # rho Water in kg/m^3\n",
    "ro0 = sp.Symbol('rho_0',        real=True, positive=True) # rho Water in kg/m^3\n",
    "Q    = sp.Symbol('Q',           real=True, positive=True) # Flow in m^3/s\n",
    "Kv   = sp.Symbol('K_v',         real=True, positive=True) # Valve coefficient in m^3/h"
   ]
  },
  {
   "cell_type": "code",
   "execution_count": 3,
   "metadata": {},
   "outputs": [],
   "source": [
    "#@title Defines the equation for the flow capacity of the control valve\n",
    "eq_kv = sp.Eq(Kv, Q * sp.sqrt(ro/ro0) * sp.sqrt(1/Dp))\n",
    "eq_Dp = sp.Eq(Dp, ro * g * Dh )"
   ]
  },
  {
   "cell_type": "code",
   "execution_count": 4,
   "metadata": {},
   "outputs": [
    {
     "data": {
      "text/latex": [
       "$\\displaystyle K_{v} = \\frac{Q \\sqrt{\\rho}}{\\sqrt{\\Delta{P_v}} \\sqrt{\\rho_{0}}}$"
      ],
      "text/plain": [
       "Eq(K_v, Q*sqrt(rho)/(sqrt(\\Delta{P_v})*sqrt(rho_0)))"
      ]
     },
     "execution_count": 4,
     "metadata": {},
     "output_type": "execute_result"
    }
   ],
   "source": [
    "eq_kv"
   ]
  },
  {
   "cell_type": "code",
   "execution_count": 5,
   "metadata": {},
   "outputs": [
    {
     "data": {
      "text/latex": [
       "$\\displaystyle K_{v} = \\frac{Q}{\\sqrt{\\Delta{H_v}} \\sqrt{g} \\sqrt{\\rho_{0}}}$"
      ],
      "text/plain": [
       "Eq(K_v, Q/(sqrt(\\Delta{H_v})*sqrt(g)*sqrt(rho_0)))"
      ]
     },
     "execution_count": 5,
     "metadata": {},
     "output_type": "execute_result"
    }
   ],
   "source": [
    "#@title Solves the equation for the flow capacity of the control valve\n",
    "eq_kv.subs(Dp, eq_Dp.rhs)\n"
   ]
  },
  {
   "cell_type": "code",
   "execution_count": null,
   "metadata": {},
   "outputs": [],
   "source": [
    "#@title Definition the units for the symbols\n",
    "#Dp   = Dp   * u.bar\n",
    "#Dh   = Dh   * u.meter\n",
    "#g    = g    * u.meter / u.second**2\n",
    "#ro   = ro   * u.kg / u.meter**3\n",
    "#ro0 = ro0 * u.kg / u.meter**3\n",
    "#Q    = Q    * u.meter**3 / u.second\n",
    "#Kv   = Kv   * u.meter**3 / u.second"
   ]
  }
 ],
 "metadata": {
  "kernelspec": {
   "display_name": "Python 3",
   "language": "python",
   "name": "python3"
  },
  "language_info": {
   "codemirror_mode": {
    "name": "ipython",
    "version": 3
   },
   "file_extension": ".py",
   "mimetype": "text/x-python",
   "name": "python",
   "nbconvert_exporter": "python",
   "pygments_lexer": "ipython3",
   "version": "3.11.4"
  }
 },
 "nbformat": 4,
 "nbformat_minor": 2
}
