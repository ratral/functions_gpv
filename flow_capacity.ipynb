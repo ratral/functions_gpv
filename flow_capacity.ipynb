{
 "cells": [
  {
   "cell_type": "code",
   "execution_count": 1,
   "metadata": {},
   "outputs": [],
   "source": [
    "#@title Imports\n",
    "import numpy as np\n",
    "import sympy as sp\n",
    "from sympy import init_printing\n",
    "init_printing()"
   ]
  },
  {
   "cell_type": "code",
   "execution_count": 2,
   "metadata": {},
   "outputs": [],
   "source": [
    "#@title Definition of the Symbols\n",
    "Dp = sp.Symbol('\\Delta{P_v}', real=True)\n",
    "Dh = sp.Symbol('\\Delta{H_v}', real=True)\n",
    "g = sp.Symbol('g', real=True)\n",
    "ro = sp.Symbol('rho', real=True)\n",
    "ro_0 = sp.Symbol('rho_0', real=True)\n",
    "Q = sp.Symbol('Q', real=True)\n",
    "Kv = sp.Symbol('K_v', real=True)"
   ]
  },
  {
   "cell_type": "code",
   "execution_count": 4,
   "metadata": {},
   "outputs": [],
   "source": [
    "#@title Defines the equation for the flow capacity of the control valve\n",
    "eq_kv = sp.Eq(Kv, Q * sp.sqrt(ro/ro_0) * sp.sqrt(1/Dp))\n",
    "eq_Dp = sp.Eq(Dp, ro * g * Dh * 10**(-5))\n",
    "\n",
    "#@title Solves the equation for the flow capacity of the control valve\n",
    "eq_kv = eq_kv.subs(Dp, eq_Dp.rhs)\n"
   ]
  },
  {
   "cell_type": "code",
   "execution_count": 6,
   "metadata": {},
   "outputs": [
    {
     "data": {
      "image/png": "[encoded data removed]",
      "text/latex": [
       "$\\displaystyle \\Delta{P_v} = 1.0 \\cdot 10^{-5} \\Delta{H_v} g \\rho$"
      ],
      "text/plain": [
       "\\Delta{P_v} = 1.0e-5⋅\\Delta{H_v}⋅g⋅ρ"
      ]
     },
     "execution_count": 6,
     "metadata": {},
     "output_type": "execute_result"
    }
   ],
   "source": [
    "eq_Dp"
   ]
  }
 ],
 "metadata": {
  "kernelspec": {
   "display_name": "Python 3",
   "language": "python",
   "name": "python3"
  },
  "language_info": {
   "codemirror_mode": {
    "name": "ipython",
    "version": 3
   },
   "file_extension": ".py",
   "mimetype": "text/x-python",
   "name": "python",
   "nbconvert_exporter": "python",
   "pygments_lexer": "ipython3",
   "version": "3.11.4"
  }
 },
 "nbformat": 4,
 "nbformat_minor": 2
}
